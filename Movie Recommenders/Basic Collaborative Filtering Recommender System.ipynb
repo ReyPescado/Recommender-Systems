{
 "cells": [
  {
   "cell_type": "markdown",
   "metadata": {},
   "source": [
    "# Collaborative Filtering Recommender System\n",
    "\n",
    "A recommender system is an algorithm that suggests items to users based on their preferences. Common applications include movie recommendations on streaming services, product recommendations on e-commerce websites, and friend suggestions on social networks.  \n",
    "\n",
    "This notebook demonstrates how to build a simple collaborative filtering recommender system using the `scikit-surprise` library. Collaborative filtering is a technique used in recommendation systems to identify user preferences and suggest items that users might like based on the preferences of similar users."
   ]
  },
  {
   "cell_type": "markdown",
   "metadata": {},
   "source": [
    "## Overview\n",
    "In this notebook, we will walkthrough:\n",
    "\n",
    "1. Installing the scikit-surprise library  \n",
    "2. Importing libraries\n",
    "2. Load and preprocess the dataset.  \n",
    "3. Use the Surprise library to create a collaborative filtering model.\n",
    "4. Make Top-N recommendations for users."
   ]
  },
  {
   "cell_type": "markdown",
   "metadata": {},
   "source": [
    "## Installation\n",
    "First, we need to install the `scikit-surprise` library. The scikit-surprise is a Python library designed for building and analyzing recommender systems. It provides a simple and efficient way to create recommendation algorithms using collaborative filtering. The library includes various algorithms such as Singular Value Decomposition (SVD), Non-negative Matrix Factorization (NMF), and K-Nearest Neighbors (KNN), among others."
   ]
  },
  {
   "cell_type": "code",
   "execution_count": 19,
   "metadata": {},
   "outputs": [
    {
     "name": "stdout",
     "output_type": "stream",
     "text": [
      "Requirement already satisfied: scikit-surprise in c:\\users\\victor\\anaconda3\\envs\\ml_env\\lib\\site-packages (1.1.4)\n",
      "Requirement already satisfied: joblib>=1.2.0 in c:\\users\\victor\\anaconda3\\envs\\ml_env\\lib\\site-packages (from scikit-surprise) (1.4.0)\n",
      "Requirement already satisfied: numpy>=1.19.5 in c:\\users\\victor\\anaconda3\\envs\\ml_env\\lib\\site-packages (from scikit-surprise) (1.26.4)\n",
      "Requirement already satisfied: scipy>=1.6.0 in c:\\users\\victor\\anaconda3\\envs\\ml_env\\lib\\site-packages (from scikit-surprise) (1.13.1)\n"
     ]
    }
   ],
   "source": [
    "# Installing the scikit-surprise package\n",
    "!pip install scikit-surprise\n"
   ]
  },
  {
   "cell_type": "markdown",
   "metadata": {},
   "source": [
    "## Importing libraries\n",
    "\n",
    "Next , we import the necessary libraries for building and evaluating a recommender system using the `scikit-surprise` library:\r\n",
    "\r\n",
    "- `Dataset` and `Reader` from `surprise`: These classes are used to handle the dataset and define the format of the data.\r\n",
    "- `SVD` from `surprise`: This is the Singular Value Decomposition algorithm, which is a matrix factorization technique commonly used in recommender systems.\r\n",
    "- `accuracy` from `surprise`: This module provides functions for evaluating the accuracy of the recommender system.\r\n",
    "- `train_test_split` from `surprise.model_selection`: This function is used to split the dataset into training and testiner system.\r\n"
   ]
  },
  {
   "cell_type": "code",
   "execution_count": 20,
   "metadata": {},
   "outputs": [],
   "source": [
    "# Import necessary libraries\n",
    "from surprise import Dataset, Reader, SVD, accuracy\n",
    "from surprise.model_selection import train_test_split\n",
    "import heapq\n",
    "import pandas as pd"
   ]
  },
  {
   "cell_type": "markdown",
   "metadata": {},
   "source": [
    "## Load and preprocess the dataset.\n",
    "\n",
    "The dataset we will be using is the in-built MovieLens 100k dataset (If the dataset is not already downloaded, load_builtin will download it automatically). This dataset contains 100,000 ratings from 943 users on 1682 movies, with user ratings ranging from 1 to 5. The dataset is part of the larger MovieLens dataset collection, which includes larger datasets such as MovieLens 1M and MovieLens 20M.\n",
    "\n",
    "We will load this dataset using the load_builtin method from Surprise. However, if you have your own data you can load it via the following method:  \n",
    "    reader = Reader(rating_scale=(0.5, 5.0))  \n",
    "    data = Dataset.load_from_df(ratings[['userId', 'movieId', 'rating']], reader)"
   ]
  },
  {
   "cell_type": "code",
   "execution_count": 21,
   "metadata": {},
   "outputs": [],
   "source": [
    "# Load the movielens-100k dataset (download it if needed)\n",
    "data = Dataset.load_builtin('ml-100k')"
   ]
  },
  {
   "cell_type": "code",
   "execution_count": 22,
   "metadata": {},
   "outputs": [],
   "source": [
    "def load_movie_titles():\n",
    "    movie_titles = {}\n",
    "    with open(r\"C:\\Users\\Victor\\Downloads\\ml-100k\\ml-100k\\u.item\", encoding='ISO-8859-1') as file:\n",
    "        for line in file:\n",
    "            parts = line.strip().split('|')\n",
    "            movie_id = parts[0]\n",
    "            movie_title = parts[1]\n",
    "            movie_titles[movie_id] = movie_title\n",
    "    return movie_titles\n",
    "\n",
    "movie_titles = load_movie_titles()\n"
   ]
  },
  {
   "cell_type": "markdown",
   "metadata": {},
   "source": [
    "## Creating a collaborative filtering model using the SVD Algorithm\r\n",
    "To build our collaborative model using the SVD (Singular Value Decomposition) algorithm from the Surprise library, we follow these steps:\n",
    "1. Create an instance of the SVD algorithm using the SVD() constructor\n",
    "2. Use the `fit()` method to train the algorithm on the training dataset (`trainset`).\n",
    "3. Use the `test()` method to predict user ratings for the test set (`testset`)\n",
    "4. Evaluate the model  computed using the `accuracy.rmse(predictions)` assesso evaluate the performance of the a5. Retrain training**: Tthen trained on the full dataset using the `build_full_trainset()` method to prepare it for making predictions \n",
    "6. Make predictions for a single userg is predicted using the `predict(user_id, it (method, where `user_id` and `item_id` are the identifiers of the user and item for which the rating is t)o bset (testset).en data.\r\n"
   ]
  },
  {
   "cell_type": "code",
   "execution_count": 23,
   "metadata": {},
   "outputs": [],
   "source": [
    "# Split the dataset into training and testing sets\n",
    "trainset, testset = train_test_split(data, test_size=0.20, random_state = 42)"
   ]
  },
  {
   "cell_type": "code",
   "execution_count": 24,
   "metadata": {},
   "outputs": [
    {
     "data": {
      "text/plain": [
       "<surprise.prediction_algorithms.matrix_factorization.SVD at 0x142b74c7890>"
      ]
     },
     "execution_count": 24,
     "metadata": {},
     "output_type": "execute_result"
    }
   ],
   "source": [
    "# Creating an SVD algorithm.\n",
    "algo = SVD()\n",
    "\n",
    "# Training the algorithm on the trainset, and predict ratings for the testset\n",
    "algo.fit(trainset)\n"
   ]
  },
  {
   "cell_type": "code",
   "execution_count": 25,
   "metadata": {},
   "outputs": [
    {
     "name": "stdout",
     "output_type": "stream",
     "text": [
      "RMSE: 0.9363\n"
     ]
    },
    {
     "data": {
      "text/plain": [
       "0.9363053235531996"
      ]
     },
     "execution_count": 25,
     "metadata": {},
     "output_type": "execute_result"
    }
   ],
   "source": [
    "# Generating predictions for the testset\n",
    "predictions = algo.test(testset)\n",
    "\n",
    "# Assessing Model performance\n",
    "accuracy.rmse(predictions)"
   ]
  },
  {
   "cell_type": "code",
   "execution_count": 26,
   "metadata": {},
   "outputs": [
    {
     "data": {
      "text/plain": [
       "<surprise.prediction_algorithms.matrix_factorization.SVD at 0x142b74c7890>"
      ]
     },
     "execution_count": 26,
     "metadata": {},
     "output_type": "execute_result"
    }
   ],
   "source": [
    "# Retraining algorithm on the full dataset\n",
    "trainset = data.build_full_trainset()\n",
    "algo.fit(trainset)"
   ]
  },
  {
   "cell_type": "code",
   "execution_count": 27,
   "metadata": {},
   "outputs": [
    {
     "name": "stdout",
     "output_type": "stream",
     "text": [
      "user: 196        item: 302        r_ui = None   est = 4.06   {'was_impossible': False}\n"
     ]
    }
   ],
   "source": [
    "# Predict a specific rating for a single user\n",
    "user_id = '196'\n",
    "item_id = '302'\n",
    "predicted_rating = algo.predict(user_id, item_id)\n",
    "print(predicted_rating)\n"
   ]
  },
  {
   "cell_type": "markdown",
   "metadata": {},
   "source": [
    "     "
   ]
  },
  {
   "cell_type": "markdown",
   "metadata": {},
   "source": [
    "## Making Top N Recommendation for a User\n",
    "\n",
    "Once we have trained our collaborative filtering model, we can use our model to recommend a list of items(movies) that a user is likely to be interested in but has not yet interacted with. To achieve this, we need to:  \n",
    "1. Get a list of all movies in the dataset.\n",
    "2. Identify which movies the user has already rated or interacted with.\n",
    "3. Filter out the movies a user has already rated from the list of all movies, leaving only the unrated movies.\n",
    "4. Use the trained collaborative filtering model to predict ratings for movies a user has yet to rate or interact with.\n",
    "5. Sort the predicted ratings for the unrated movies in descending order, based on the likelihood of the user's interest.\n",
    "6. Choose and display the top-N items with the highest predicted ratings as recommendations for the user."
   ]
  },
  {
   "cell_type": "code",
   "execution_count": 28,
   "metadata": {},
   "outputs": [],
   "source": [
    "# Creating function top N movies for a specific user\n",
    "def get_top_n_recommendations(algo, user_id, n=10):\n",
    "    \"\"\"\n",
    "    Get top N movie recommendations for a specific user.\n",
    "\n",
    "    Args:\n",
    "    - algo: Trained collaborative filtering algorithm (e.g., SVD).\n",
    "    - user_id: ID of the user for whom recommendations are generated.\n",
    "    - n: Number of recommendations to return (default is 10).\n",
    "\n",
    "    Returns:\n",
    "    - List of tuples containing movie ID and predicted rating, sorted by predicted rating in descending order.\n",
    "    \"\"\"\n",
    "    # Get a list of all movie IDs\n",
    "    all_movie_ids = trainset.all_items()\n",
    "    \n",
    "    # Get a list of all movie ratings for the user\n",
    "    user_ratings = trainset.ur[trainset.to_inner_uid(user_id)]\n",
    "    \n",
    "    # Exclude already rated movies\n",
    "    movie_already_rated = [item_id for item_id, rating in user_ratings]\n",
    "    movie_ids_to_predict = [mid for mid in all_movie_ids if mid not in movie_already_rated]\n",
    "    \n",
    "    # Predict ratings for all unrated movies\n",
    "    predictions = [algo.predict(user_id, trainset.to_raw_iid(mid)) for mid in movie_ids_to_predict]\n",
    "    \n",
    "    # Get the top N movie predictions\n",
    "    top_n_predictions = heapq.nlargest(n, predictions, key=lambda x: x.est)\n",
    "    \n",
    "    # Extract the movie IDs and ratings\n",
    "    top_n_movie_ids = [(pred.iid, pred.est) for pred in top_n_predictions]\n",
    "    \n",
    "    return top_n_movie_ids"
   ]
  },
  {
   "cell_type": "code",
   "execution_count": 29,
   "metadata": {},
   "outputs": [],
   "source": [
    "## Getting Top-N Movies and Ratings for a User\n",
    "user_id = '196'\n",
    "top_n_recommendations = get_top_n_recommendations(algo, user_id, n=10)\n",
    "\n",
    "\n",
    "recommendations_data = []\n",
    "\n",
    "for movie_id, rating in top_n_recommendations:\n",
    "    movie_title = movie_titles.get(movie_id, \"Unknown Title\")\n",
    "    recommendations_data.append({\"Movie ID\": movie_id, \"Movie Title\": movie_title, \"Predicted Rating\": rating})\n",
    "\n",
    "recommendations_df = pd.DataFrame(recommendations_data)\n"
   ]
  },
  {
   "cell_type": "code",
   "execution_count": 30,
   "metadata": {},
   "outputs": [
    {
     "data": {
      "text/html": [
       "<div>\n",
       "<style scoped>\n",
       "    .dataframe tbody tr th:only-of-type {\n",
       "        vertical-align: middle;\n",
       "    }\n",
       "\n",
       "    .dataframe tbody tr th {\n",
       "        vertical-align: top;\n",
       "    }\n",
       "\n",
       "    .dataframe thead th {\n",
       "        text-align: right;\n",
       "    }\n",
       "</style>\n",
       "<table border=\"1\" class=\"dataframe\">\n",
       "  <thead>\n",
       "    <tr style=\"text-align: right;\">\n",
       "      <th></th>\n",
       "      <th>Movie ID</th>\n",
       "      <th>Movie Title</th>\n",
       "      <th>Predicted Rating</th>\n",
       "    </tr>\n",
       "  </thead>\n",
       "  <tbody>\n",
       "    <tr>\n",
       "      <th>0</th>\n",
       "      <td>96</td>\n",
       "      <td>Terminator 2: Judgment Day (1991)</td>\n",
       "      <td>4.634770</td>\n",
       "    </tr>\n",
       "    <tr>\n",
       "      <th>1</th>\n",
       "      <td>100</td>\n",
       "      <td>Fargo (1996)</td>\n",
       "      <td>4.577455</td>\n",
       "    </tr>\n",
       "    <tr>\n",
       "      <th>2</th>\n",
       "      <td>169</td>\n",
       "      <td>Wrong Trousers, The (1993)</td>\n",
       "      <td>4.562219</td>\n",
       "    </tr>\n",
       "    <tr>\n",
       "      <th>3</th>\n",
       "      <td>963</td>\n",
       "      <td>Some Folks Call It a Sling Blade (1993)</td>\n",
       "      <td>4.483926</td>\n",
       "    </tr>\n",
       "    <tr>\n",
       "      <th>4</th>\n",
       "      <td>408</td>\n",
       "      <td>Close Shave, A (1995)</td>\n",
       "      <td>4.480231</td>\n",
       "    </tr>\n",
       "    <tr>\n",
       "      <th>5</th>\n",
       "      <td>646</td>\n",
       "      <td>Once Upon a Time in the West (1969)</td>\n",
       "      <td>4.402501</td>\n",
       "    </tr>\n",
       "    <tr>\n",
       "      <th>6</th>\n",
       "      <td>187</td>\n",
       "      <td>Godfather: Part II, The (1974)</td>\n",
       "      <td>4.396875</td>\n",
       "    </tr>\n",
       "    <tr>\n",
       "      <th>7</th>\n",
       "      <td>114</td>\n",
       "      <td>Wallace &amp; Gromit: The Best of Aardman Animatio...</td>\n",
       "      <td>4.375298</td>\n",
       "    </tr>\n",
       "    <tr>\n",
       "      <th>8</th>\n",
       "      <td>190</td>\n",
       "      <td>Henry V (1989)</td>\n",
       "      <td>4.341503</td>\n",
       "    </tr>\n",
       "    <tr>\n",
       "      <th>9</th>\n",
       "      <td>79</td>\n",
       "      <td>Fugitive, The (1993)</td>\n",
       "      <td>4.339178</td>\n",
       "    </tr>\n",
       "  </tbody>\n",
       "</table>\n",
       "</div>"
      ],
      "text/plain": [
       "  Movie ID                                        Movie Title  \\\n",
       "0       96                  Terminator 2: Judgment Day (1991)   \n",
       "1      100                                       Fargo (1996)   \n",
       "2      169                         Wrong Trousers, The (1993)   \n",
       "3      963            Some Folks Call It a Sling Blade (1993)   \n",
       "4      408                              Close Shave, A (1995)   \n",
       "5      646                Once Upon a Time in the West (1969)   \n",
       "6      187                     Godfather: Part II, The (1974)   \n",
       "7      114  Wallace & Gromit: The Best of Aardman Animatio...   \n",
       "8      190                                     Henry V (1989)   \n",
       "9       79                               Fugitive, The (1993)   \n",
       "\n",
       "   Predicted Rating  \n",
       "0          4.634770  \n",
       "1          4.577455  \n",
       "2          4.562219  \n",
       "3          4.483926  \n",
       "4          4.480231  \n",
       "5          4.402501  \n",
       "6          4.396875  \n",
       "7          4.375298  \n",
       "8          4.341503  \n",
       "9          4.339178  "
      ]
     },
     "execution_count": 30,
     "metadata": {},
     "output_type": "execute_result"
    }
   ],
   "source": [
    "recommendations_df"
   ]
  }
 ],
 "metadata": {
  "kernelspec": {
   "display_name": "Python 3 (ipykernel)",
   "language": "python",
   "name": "python3"
  },
  "language_info": {
   "codemirror_mode": {
    "name": "ipython",
    "version": 3
   },
   "file_extension": ".py",
   "mimetype": "text/x-python",
   "name": "python",
   "nbconvert_exporter": "python",
   "pygments_lexer": "ipython3",
   "version": "3.11.9"
  }
 },
 "nbformat": 4,
 "nbformat_minor": 4
}
