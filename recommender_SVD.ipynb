{
 "cells": [
  {
   "cell_type": "code",
   "execution_count": 1,
   "metadata": {
    "id": "aYXs1GGLKX_r"
   },
   "outputs": [],
   "source": [
    "import pandas as pd\n",
    "import numpy as np\n",
    "from surprise import Dataset, Reader, SVD\n",
    "from surprise.model_selection import train_test_split\n",
    "from surprise import accuracy"
   ]
  },
  {
   "cell_type": "markdown",
   "metadata": {},
   "source": [
    "#### Loading Data"
   ]
  },
  {
   "cell_type": "code",
   "execution_count": 2,
   "metadata": {},
   "outputs": [],
   "source": [
    "train = pd.read_csv('train.csv')\n",
    "test = pd.read_csv('test.csv')"
   ]
  },
  {
   "cell_type": "code",
   "execution_count": 6,
   "metadata": {},
   "outputs": [
    {
     "data": {
      "text/plain": [
       "(10000038, 4)"
      ]
     },
     "execution_count": 6,
     "metadata": {},
     "output_type": "execute_result"
    }
   ],
   "source": [
    "train.shape"
   ]
  },
  {
   "cell_type": "code",
   "execution_count": 4,
   "metadata": {},
   "outputs": [],
   "source": [
    "# Data cleaning\n",
    "train.dropna(subset=['userId', 'movieId', 'rating'], inplace=True)  \n",
    "train['userId'] = train['userId'].astype(int)  \n",
    "train['movieId'] = train['movieId'].astype(int)  \n",
    "train['rating'] = train['rating'].astype(float) "
   ]
  },
  {
   "cell_type": "code",
   "execution_count": 5,
   "metadata": {},
   "outputs": [],
   "source": [
    "# Check for duplicate entries\n",
    "train.drop_duplicates(subset=['userId', 'movieId'], inplace=True)"
   ]
  },
  {
   "cell_type": "code",
   "execution_count": 14,
   "metadata": {},
   "outputs": [
    {
     "data": {
      "text/plain": [
       "(10000038, 4)"
      ]
     },
     "execution_count": 14,
     "metadata": {},
     "output_type": "execute_result"
    }
   ],
   "source": [
    "train = train[(train['rating'] >= 0.5) & (train['rating'] <= 5)]\n",
    "train.shape\n"
   ]
  },
  {
   "cell_type": "code",
   "execution_count": 15,
   "metadata": {},
   "outputs": [],
   "source": [
    "from sklearn.preprocessing import StandardScaler\n",
    "\n",
    "scaler = StandardScaler()\n",
    "train['rating_normalized'] = scaler.fit_transform(train[['rating']])"
   ]
  },
  {
   "cell_type": "code",
   "execution_count": 16,
   "metadata": {},
   "outputs": [],
   "source": [
    "min_user_ratings = 5\n",
    "min_movie_ratings = 5\n",
    "\n",
    "filtered_users = train['userId'].value_counts()[train['userId'].value_counts() >= min_user_ratings].index\n",
    "filtered_movies = train['movieId'].value_counts()[train['movieId'].value_counts() >= min_movie_ratings].index\n",
    "\n",
    "train = train[train['userId'].isin(filtered_users) & train['movieId'].isin(filtered_movies)]\n"
   ]
  },
  {
   "cell_type": "code",
   "execution_count": 18,
   "metadata": {
    "id": "HjwV4U4YLBdJ"
   },
   "outputs": [],
   "source": [
    "# Prepare the training data for the Surprise library\n",
    "reader = Reader(rating_scale=(0.5, 5))\n",
    "data = Dataset.load_from_df(train[['userId', 'movieId', 'rating']], reader)"
   ]
  },
  {
   "cell_type": "code",
   "execution_count": 19,
   "metadata": {
    "id": "NXFKbjlqLJ4C"
   },
   "outputs": [],
   "source": [
    "trainset, validationset = train_test_split(data, test_size=0.15)"
   ]
  },
  {
   "cell_type": "markdown",
   "metadata": {},
   "source": [
    "#### Side Note"
   ]
  },
  {
   "cell_type": "code",
   "execution_count": 22,
   "metadata": {},
   "outputs": [],
   "source": [
    "from surprise.model_selection import GridSearchCV"
   ]
  },
  {
   "cell_type": "code",
   "execution_count": 23,
   "metadata": {},
   "outputs": [],
   "source": [
    "param_grid = {\n",
    "    'n_factors': [20, 50, 100, 200],  \n",
    "    'n_epochs': [20, 30, 40, 50],     \n",
    "    'lr_all': [0.002, 0.005, 0.01, 0.02],  \n",
    "    'reg_all': [0.02, 0.05, 0.1, 0.2]   \n",
    "}"
   ]
  },
  {
   "cell_type": "code",
   "execution_count": 24,
   "metadata": {},
   "outputs": [],
   "source": [
    "gs = GridSearchCV(SVD, param_grid, measures=['rmse', 'mae'], cv=5)"
   ]
  },
  {
   "cell_type": "code",
   "execution_count": 26,
   "metadata": {},
   "outputs": [],
   "source": [
    "gs.fit(data)"
   ]
  },
  {
   "cell_type": "code",
   "execution_count": null,
   "metadata": {},
   "outputs": [
    {
     "name": "stdout",
     "output_type": "stream",
     "text": [
      "Best RMSE score achieved:  1.0731908336346934\n",
      "Best parameters:  {'n_factors': 200, 'n_epochs': 50, 'lr_all': 0.002, 'reg_all': 0.02}\n"
     ]
    }
   ],
   "source": [
    "# Best RMSE score\n",
    "print(\"Best RMSE score achieved: \", gs.best_score['rmse'])\n",
    "\n",
    "# Best parameters \n",
    "print(\"Best parameters: \", gs.best_params['rmse'])\n",
    "\n",
    "# best SVD model trained on the whole dataset\n",
    "best_algo = gs.best_estimator['rmse']"
   ]
  },
  {
   "cell_type": "markdown",
   "metadata": {},
   "source": [
    "#### Model Building"
   ]
  },
  {
   "cell_type": "code",
   "execution_count": 20,
   "metadata": {
    "colab": {
     "base_uri": "https://localhost:8080/"
    },
    "id": "-JeOqAvJLOxW",
    "outputId": "3ac9452d-3ec7-4817-be3f-0122883bf5ff"
   },
   "outputs": [
    {
     "data": {
      "text/plain": [
       "<surprise.prediction_algorithms.matrix_factorization.SVD at 0x24787be48d0>"
      ]
     },
     "execution_count": 20,
     "metadata": {},
     "output_type": "execute_result"
    }
   ],
   "source": [
    "# Train the SVD algorithm on the trainset\n",
    "algo = SVD()\n",
    "algo.fit(trainset)\n"
   ]
  },
  {
   "cell_type": "code",
   "execution_count": 21,
   "metadata": {
    "colab": {
     "base_uri": "https://localhost:8080/"
    },
    "id": "Cws7bei_OCQ1",
    "outputId": "6edacfd7-5b0b-405c-9981-6d885b9657b2"
   },
   "outputs": [
    {
     "name": "stdout",
     "output_type": "stream",
     "text": [
      "RMSE: 0.8296\n",
      "Validation RMSE: 0.8296136971539708\n"
     ]
    }
   ],
   "source": [
    "# Predict ratings for the validation set\n",
    "predictions = algo.test(validationset)\n",
    "\n",
    "# Calculate and print RMSE\n",
    "rmse = accuracy.rmse(predictions)\n",
    "print(f'Validation RMSE: {rmse}')\n"
   ]
  },
  {
   "cell_type": "code",
   "execution_count": 80,
   "metadata": {
    "colab": {
     "base_uri": "https://localhost:8080/"
    },
    "id": "80Q4qHqwOhy4",
    "outputId": "cfbe64ac-7331-4a86-a634-1c29f6e6098a"
   },
   "outputs": [
    {
     "data": {
      "text/plain": [
       "<surprise.prediction_algorithms.matrix_factorization.SVD at 0x268f25f02d0>"
      ]
     },
     "execution_count": 80,
     "metadata": {},
     "output_type": "execute_result"
    }
   ],
   "source": [
    "# Train the SVD algorithm on the full trainset\n",
    "final_trainset = data.build_full_trainset()\n",
    "algo.fit(final_trainset)"
   ]
  },
  {
   "cell_type": "code",
   "execution_count": 81,
   "metadata": {
    "id": "UJP7HUAmLpvg"
   },
   "outputs": [],
   "source": [
    "# Predict ratings for the test dataset\n",
    "test['predicted_rating'] = test.apply(lambda x: algo.predict(x['userId'], x['movieId']).est, axis=1)"
   ]
  },
  {
   "cell_type": "code",
   "execution_count": 87,
   "metadata": {},
   "outputs": [],
   "source": [
    "def unnormalize(pred, min_val= 0.5, max_val=5):\n",
    "    return pred * (max_val - min_val) + min_val"
   ]
  },
  {
   "cell_type": "code",
   "execution_count": 90,
   "metadata": {},
   "outputs": [],
   "source": [
    "test['predicted_rating'] = test['predicted_rating'].apply(unnormalize)"
   ]
  },
  {
   "cell_type": "code",
   "execution_count": 91,
   "metadata": {},
   "outputs": [
    {
     "data": {
      "text/html": [
       "<div>\n",
       "<style scoped>\n",
       "    .dataframe tbody tr th:only-of-type {\n",
       "        vertical-align: middle;\n",
       "    }\n",
       "\n",
       "    .dataframe tbody tr th {\n",
       "        vertical-align: top;\n",
       "    }\n",
       "\n",
       "    .dataframe thead th {\n",
       "        text-align: right;\n",
       "    }\n",
       "</style>\n",
       "<table border=\"1\" class=\"dataframe\">\n",
       "  <thead>\n",
       "    <tr style=\"text-align: right;\">\n",
       "      <th></th>\n",
       "      <th>userId</th>\n",
       "      <th>movieId</th>\n",
       "      <th>predicted_rating</th>\n",
       "    </tr>\n",
       "  </thead>\n",
       "  <tbody>\n",
       "    <tr>\n",
       "      <th>0</th>\n",
       "      <td>1</td>\n",
       "      <td>2011</td>\n",
       "      <td>2.937115</td>\n",
       "    </tr>\n",
       "    <tr>\n",
       "      <th>1</th>\n",
       "      <td>1</td>\n",
       "      <td>4144</td>\n",
       "      <td>4.071524</td>\n",
       "    </tr>\n",
       "    <tr>\n",
       "      <th>2</th>\n",
       "      <td>1</td>\n",
       "      <td>5767</td>\n",
       "      <td>3.222649</td>\n",
       "    </tr>\n",
       "    <tr>\n",
       "      <th>3</th>\n",
       "      <td>1</td>\n",
       "      <td>6711</td>\n",
       "      <td>3.322674</td>\n",
       "    </tr>\n",
       "    <tr>\n",
       "      <th>4</th>\n",
       "      <td>1</td>\n",
       "      <td>7318</td>\n",
       "      <td>2.750000</td>\n",
       "    </tr>\n",
       "    <tr>\n",
       "      <th>...</th>\n",
       "      <td>...</td>\n",
       "      <td>...</td>\n",
       "      <td>...</td>\n",
       "    </tr>\n",
       "    <tr>\n",
       "      <th>5000014</th>\n",
       "      <td>162541</td>\n",
       "      <td>4079</td>\n",
       "      <td>3.124203</td>\n",
       "    </tr>\n",
       "    <tr>\n",
       "      <th>5000015</th>\n",
       "      <td>162541</td>\n",
       "      <td>4467</td>\n",
       "      <td>3.515611</td>\n",
       "    </tr>\n",
       "    <tr>\n",
       "      <th>5000016</th>\n",
       "      <td>162541</td>\n",
       "      <td>4980</td>\n",
       "      <td>2.907049</td>\n",
       "    </tr>\n",
       "    <tr>\n",
       "      <th>5000017</th>\n",
       "      <td>162541</td>\n",
       "      <td>5689</td>\n",
       "      <td>2.779589</td>\n",
       "    </tr>\n",
       "    <tr>\n",
       "      <th>5000018</th>\n",
       "      <td>162541</td>\n",
       "      <td>7153</td>\n",
       "      <td>3.846980</td>\n",
       "    </tr>\n",
       "  </tbody>\n",
       "</table>\n",
       "<p>5000019 rows × 3 columns</p>\n",
       "</div>"
      ],
      "text/plain": [
       "         userId  movieId  predicted_rating\n",
       "0             1     2011          2.937115\n",
       "1             1     4144          4.071524\n",
       "2             1     5767          3.222649\n",
       "3             1     6711          3.322674\n",
       "4             1     7318          2.750000\n",
       "...         ...      ...               ...\n",
       "5000014  162541     4079          3.124203\n",
       "5000015  162541     4467          3.515611\n",
       "5000016  162541     4980          2.907049\n",
       "5000017  162541     5689          2.779589\n",
       "5000018  162541     7153          3.846980\n",
       "\n",
       "[5000019 rows x 3 columns]"
      ]
     },
     "execution_count": 91,
     "metadata": {},
     "output_type": "execute_result"
    }
   ],
   "source": [
    "test"
   ]
  },
  {
   "cell_type": "markdown",
   "metadata": {},
   "source": [
    "#### Creating Submission files"
   ]
  },
  {
   "cell_type": "code",
   "execution_count": null,
   "metadata": {
    "id": "yAygYMFbLu_s"
   },
   "outputs": [],
   "source": [
    "# Prepare the final submission\n",
    "test['userid_movieid'] = test['userId'].astype(str) + '_' + test['movieId'].astype(str)\n",
    "final_submission = test[['userid_movieid', 'predicted_rating']]"
   ]
  },
  {
   "cell_type": "code",
   "execution_count": null,
   "metadata": {
    "colab": {
     "base_uri": "https://localhost:8080/",
     "height": 206
    },
    "id": "1A8vMXORLzxb",
    "outputId": "ea6e543c-185d-4f12-c907-65208678a482"
   },
   "outputs": [],
   "source": [
    "final_submission.head()"
   ]
  },
  {
   "cell_type": "code",
   "execution_count": null,
   "metadata": {
    "id": "FnuriisLQfuA"
   },
   "outputs": [],
   "source": [
    "final_submission.to_csv('submission.csv', index=False)"
   ]
  },
  {
   "cell_type": "code",
   "execution_count": null,
   "metadata": {},
   "outputs": [],
   "source": [
    "e.head()"
   ]
  },
  {
   "cell_type": "markdown",
   "metadata": {},
   "source": [
    "#### Submission 2"
   ]
  },
  {
   "cell_type": "code",
   "execution_count": 92,
   "metadata": {},
   "outputs": [
    {
     "data": {
      "text/html": [
       "<div>\n",
       "<style scoped>\n",
       "    .dataframe tbody tr th:only-of-type {\n",
       "        vertical-align: middle;\n",
       "    }\n",
       "\n",
       "    .dataframe tbody tr th {\n",
       "        vertical-align: top;\n",
       "    }\n",
       "\n",
       "    .dataframe thead th {\n",
       "        text-align: right;\n",
       "    }\n",
       "</style>\n",
       "<table border=\"1\" class=\"dataframe\">\n",
       "  <thead>\n",
       "    <tr style=\"text-align: right;\">\n",
       "      <th></th>\n",
       "      <th>userId</th>\n",
       "      <th>movieId</th>\n",
       "      <th>predicted_rating</th>\n",
       "    </tr>\n",
       "  </thead>\n",
       "  <tbody>\n",
       "    <tr>\n",
       "      <th>0</th>\n",
       "      <td>1</td>\n",
       "      <td>2011</td>\n",
       "      <td>2.937115</td>\n",
       "    </tr>\n",
       "    <tr>\n",
       "      <th>1</th>\n",
       "      <td>1</td>\n",
       "      <td>4144</td>\n",
       "      <td>4.071524</td>\n",
       "    </tr>\n",
       "    <tr>\n",
       "      <th>2</th>\n",
       "      <td>1</td>\n",
       "      <td>5767</td>\n",
       "      <td>3.222649</td>\n",
       "    </tr>\n",
       "  </tbody>\n",
       "</table>\n",
       "</div>"
      ],
      "text/plain": [
       "   userId  movieId  predicted_rating\n",
       "0       1     2011          2.937115\n",
       "1       1     4144          4.071524\n",
       "2       1     5767          3.222649"
      ]
     },
     "execution_count": 92,
     "metadata": {},
     "output_type": "execute_result"
    }
   ],
   "source": [
    "test.head(3)"
   ]
  },
  {
   "cell_type": "code",
   "execution_count": 93,
   "metadata": {},
   "outputs": [],
   "source": [
    "submission = []\n",
    "\n",
    "for index, row in test.iterrows():\n",
    "    user = row['userId']\n",
    "    movie_id = row['movieId']\n",
    "    rating = row['predicted_rating']\n",
    "    submission.append({'Id': f\"{user}_{movie_id}\", 'rating': rating})"
   ]
  },
  {
   "cell_type": "code",
   "execution_count": 94,
   "metadata": {},
   "outputs": [
    {
     "name": "stdout",
     "output_type": "stream",
     "text": [
      "            Id    rating\n",
      "0   1.0_2011.0  2.937115\n",
      "1   1.0_4144.0  4.071524\n",
      "2   1.0_5767.0  3.222649\n",
      "3   1.0_6711.0  3.322674\n",
      "4   1.0_7318.0  2.750000\n",
      "5   1.0_8405.0  3.787938\n",
      "6   1.0_8786.0  3.623284\n",
      "7    2.0_150.0  3.461389\n",
      "8    2.0_356.0  3.798988\n",
      "9    2.0_497.0  3.729651\n",
      "10   2.0_588.0  3.136394\n"
     ]
    }
   ],
   "source": [
    "# Convert to DataFrame\n",
    "submission_df = pd.DataFrame(submission)\n",
    "\n",
    "# Save to CSV\n",
    "submission_df.to_csv('Ssubmission2.csv', index=False)\n",
    "\n",
    "# Example output:\n",
    "print(submission_df.head(11))"
   ]
  },
  {
   "cell_type": "code",
   "execution_count": 100,
   "metadata": {},
   "outputs": [
    {
     "data": {
      "text/html": [
       "<div>\n",
       "<style scoped>\n",
       "    .dataframe tbody tr th:only-of-type {\n",
       "        vertical-align: middle;\n",
       "    }\n",
       "\n",
       "    .dataframe tbody tr th {\n",
       "        vertical-align: top;\n",
       "    }\n",
       "\n",
       "    .dataframe thead th {\n",
       "        text-align: right;\n",
       "    }\n",
       "</style>\n",
       "<table border=\"1\" class=\"dataframe\">\n",
       "  <thead>\n",
       "    <tr style=\"text-align: right;\">\n",
       "      <th></th>\n",
       "      <th>Id</th>\n",
       "      <th>rating</th>\n",
       "    </tr>\n",
       "  </thead>\n",
       "  <tbody>\n",
       "    <tr>\n",
       "      <th>0</th>\n",
       "      <td>1_2011</td>\n",
       "      <td>2.937115</td>\n",
       "    </tr>\n",
       "    <tr>\n",
       "      <th>1</th>\n",
       "      <td>1_4144</td>\n",
       "      <td>4.071524</td>\n",
       "    </tr>\n",
       "    <tr>\n",
       "      <th>2</th>\n",
       "      <td>1_5767</td>\n",
       "      <td>3.222649</td>\n",
       "    </tr>\n",
       "    <tr>\n",
       "      <th>3</th>\n",
       "      <td>1_6711</td>\n",
       "      <td>3.322674</td>\n",
       "    </tr>\n",
       "    <tr>\n",
       "      <th>4</th>\n",
       "      <td>1_7318</td>\n",
       "      <td>2.750000</td>\n",
       "    </tr>\n",
       "    <tr>\n",
       "      <th>...</th>\n",
       "      <td>...</td>\n",
       "      <td>...</td>\n",
       "    </tr>\n",
       "    <tr>\n",
       "      <th>5000014</th>\n",
       "      <td>162541_4079</td>\n",
       "      <td>3.124203</td>\n",
       "    </tr>\n",
       "    <tr>\n",
       "      <th>5000015</th>\n",
       "      <td>162541_4467</td>\n",
       "      <td>3.515611</td>\n",
       "    </tr>\n",
       "    <tr>\n",
       "      <th>5000016</th>\n",
       "      <td>162541_4980</td>\n",
       "      <td>2.907049</td>\n",
       "    </tr>\n",
       "    <tr>\n",
       "      <th>5000017</th>\n",
       "      <td>162541_5689</td>\n",
       "      <td>2.779589</td>\n",
       "    </tr>\n",
       "    <tr>\n",
       "      <th>5000018</th>\n",
       "      <td>162541_7153</td>\n",
       "      <td>3.846980</td>\n",
       "    </tr>\n",
       "  </tbody>\n",
       "</table>\n",
       "<p>5000019 rows × 2 columns</p>\n",
       "</div>"
      ],
      "text/plain": [
       "                  Id    rating\n",
       "0             1_2011  2.937115\n",
       "1             1_4144  4.071524\n",
       "2             1_5767  3.222649\n",
       "3             1_6711  3.322674\n",
       "4             1_7318  2.750000\n",
       "...              ...       ...\n",
       "5000014  162541_4079  3.124203\n",
       "5000015  162541_4467  3.515611\n",
       "5000016  162541_4980  2.907049\n",
       "5000017  162541_5689  2.779589\n",
       "5000018  162541_7153  3.846980\n",
       "\n",
       "[5000019 rows x 2 columns]"
      ]
     },
     "execution_count": 100,
     "metadata": {},
     "output_type": "execute_result"
    }
   ],
   "source": [
    "d = pd.read_csv('Ssubmission2.csv')\n",
    "d"
   ]
  },
  {
   "cell_type": "code",
   "execution_count": null,
   "metadata": {},
   "outputs": [],
   "source": [
    "f = d = pd.read_csv('sample_submission.csv')\n",
    "d.info()"
   ]
  },
  {
   "cell_type": "code",
   "execution_count": 96,
   "metadata": {},
   "outputs": [],
   "source": [
    "def convert_string(value):\n",
    "    return value.replace('.0', '')"
   ]
  },
  {
   "cell_type": "code",
   "execution_count": 97,
   "metadata": {},
   "outputs": [],
   "source": [
    "d['Id'] = d['Id'].apply(convert_string)"
   ]
  },
  {
   "cell_type": "code",
   "execution_count": 99,
   "metadata": {},
   "outputs": [],
   "source": [
    "d.to_csv('Ssubmission2.csv', index=False)"
   ]
  }
 ],
 "metadata": {
  "colab": {
   "provenance": []
  },
  "kernelspec": {
   "display_name": "Python 3 (ipykernel)",
   "language": "python",
   "name": "python3"
  },
  "language_info": {
   "codemirror_mode": {
    "name": "ipython",
    "version": 3
   },
   "file_extension": ".py",
   "mimetype": "text/x-python",
   "name": "python",
   "nbconvert_exporter": "python",
   "pygments_lexer": "ipython3",
   "version": "3.11.9"
  }
 },
 "nbformat": 4,
 "nbformat_minor": 4
}
